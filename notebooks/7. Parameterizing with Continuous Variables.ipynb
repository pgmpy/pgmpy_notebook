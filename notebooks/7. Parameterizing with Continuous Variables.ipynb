{
 "cells": [
  {
   "cell_type": "markdown",
   "metadata": {},
   "source": [
    "# Parameterizing with Continuous Variables"
   ]
  },
  {
   "cell_type": "code",
   "execution_count": 1,
   "metadata": {},
   "outputs": [],
   "source": [
    "from IPython.display import Image"
   ]
  },
  {
   "cell_type": "markdown",
   "metadata": {},
   "source": [
    "## Continuous Factors"
   ]
  },
  {
   "cell_type": "markdown",
   "metadata": {},
   "source": [
    "1. Base Class for Continuous Factors\n",
    "2. Joint Gaussian Distributions\n",
    "3. Canonical Factors\n",
    "4. Linear Gaussian CPD"
   ]
  },
  {
   "cell_type": "markdown",
   "metadata": {},
   "source": [
    "In many situations, some variables are best modeled as taking values in some continuous space. Examples include variables such as position, velocity, temperature, and pressure. Clearly, we cannot use a table representation in this case. \n",
    "\n",
    "Nothing in the formulation of a Bayesian network requires that we restrict attention to discrete variables. The only requirement is that the CPD, $P(X | Y_1, Y_2, ... Y_n)$ represent, for every assignment of values $y_1 \\in Val(Y_1)$, $y_2 \\in Val(Y_2)$, .....$y_n \\in Val(Y_n)$, a distribution over $X$. In this case, $X$ might be continuous, in which case the CPD would need to represent distributions over a continuum of values; we might also have $X$’s parents continuous, so that the CPD would also need to represent a continuum of different probability distributions. There exists implicit representations for CPDs of this type, allowing us to apply all the network machinery for the continuous case as well."
   ]
  },
  {
   "cell_type": "markdown",
   "metadata": {},
   "source": [
    "### Base Class for Continuous Factors"
   ]
  },
  {
   "cell_type": "markdown",
   "metadata": {},
   "source": [
    "This class will behave as a base class for the continuous factor representations. All the present and future factor classes will be derived from this base class. We need to specify the variable names and a pdf function to initialize this class."
   ]
  },
  {
   "cell_type": "code",
   "execution_count": 3,
   "metadata": {},
   "outputs": [],
   "source": [
    "import numpy as np\n",
    "from scipy.special import beta\n",
    "\n",
    "# Two variable drichlet ditribution with alpha = (1,2)\n",
    "def drichlet_pdf(x, y):\n",
    "     return (np.power(x, 1)*np.power(y, 2))/beta(x, y)\n",
    "\n",
    "from pgmpy.factors.continuous import ContinuousFactor\n",
    "drichlet_factor = ContinuousFactor(['x', 'y'], drichlet_pdf)"
   ]
  },
  {
   "cell_type": "code",
   "execution_count": 4,
   "metadata": {},
   "outputs": [
    {
     "data": {
      "text/plain": [
       "(['x', 'y'], 226800.0)"
      ]
     },
     "execution_count": 4,
     "metadata": {},
     "output_type": "execute_result"
    }
   ],
   "source": [
    "drichlet_factor.scope(), drichlet_factor.assignment(5,6)"
   ]
  },
  {
   "cell_type": "markdown",
   "metadata": {},
   "source": [
    "This class supports methods like **marginalize, reduce, product and divide** just like what we have with discrete classes. One caveat is that when there are a number of variables involved, these methods prove to be inefficient and hence we resort to certain Gaussian or some other approximations which are discussed later."
   ]
  },
  {
   "cell_type": "code",
   "execution_count": 5,
   "metadata": {},
   "outputs": [],
   "source": [
    "def custom_pdf(x, y, z):\n",
    "    return z*(np.power(x, 1)*np.power(y, 2))/beta(x, y)\n",
    "\n",
    "custom_factor = ContinuousFactor(['x', 'y', 'z'], custom_pdf)"
   ]
  },
  {
   "cell_type": "code",
   "execution_count": 6,
   "metadata": {},
   "outputs": [
    {
     "data": {
      "text/plain": [
       "(['x', 'y', 'z'], 24.0)"
      ]
     },
     "execution_count": 6,
     "metadata": {},
     "output_type": "execute_result"
    }
   ],
   "source": [
    "custom_factor.scope(), custom_factor.assignment(1, 2, 3)"
   ]
  },
  {
   "cell_type": "code",
   "execution_count": 7,
   "metadata": {},
   "outputs": [
    {
     "data": {
      "text/plain": [
       "(['x', 'z'], 24.0)"
      ]
     },
     "execution_count": 7,
     "metadata": {},
     "output_type": "execute_result"
    }
   ],
   "source": [
    "custom_factor.reduce([('y', 2)])\n",
    "custom_factor.scope(), custom_factor.assignment(1, 3)"
   ]
  },
  {
   "cell_type": "code",
   "execution_count": 8,
   "metadata": {},
   "outputs": [
    {
     "data": {
      "text/plain": [
       "(['x1', 'x2'], 0.058549831524319168)"
      ]
     },
     "execution_count": 8,
     "metadata": {},
     "output_type": "execute_result"
    }
   ],
   "source": [
    "from scipy.stats import multivariate_normal\n",
    "\n",
    "std_normal_pdf = lambda *x: multivariate_normal.pdf(x, [0, 0], [[1, 0], [0, 1]])\n",
    "std_normal = ContinuousFactor(['x1', 'x2'], std_normal_pdf)\n",
    "std_normal.scope(), std_normal.assignment([1, 1])"
   ]
  },
  {
   "cell_type": "code",
   "execution_count": 9,
   "metadata": {},
   "outputs": [
    {
     "data": {
      "text/plain": [
       "(['x1'], 0.24197072451914328)"
      ]
     },
     "execution_count": 9,
     "metadata": {},
     "output_type": "execute_result"
    }
   ],
   "source": [
    "std_normal.marginalize(['x2'])\n",
    "std_normal.scope(), std_normal.assignment(1)"
   ]
  },
  {
   "cell_type": "code",
   "execution_count": 10,
   "metadata": {},
   "outputs": [
    {
     "data": {
      "text/plain": [
       "(0.063493635934240983, 0.3989422804014327)"
      ]
     },
     "execution_count": 10,
     "metadata": {},
     "output_type": "execute_result"
    }
   ],
   "source": [
    "sn_pdf1 = lambda x: multivariate_normal.pdf([x], [0], [[1]])\n",
    "sn_pdf2 = lambda x1,x2: multivariate_normal.pdf([x1, x2], [0, 0], [[1, 0], [0, 1]])\n",
    "sn1 = ContinuousFactor(['x2'], sn_pdf1)\n",
    "sn2 = ContinuousFactor(['x1', 'x2'], sn_pdf2)\n",
    "sn3 = sn1 * sn2\n",
    "sn4 = sn2 / sn1\n",
    "sn3.assignment(0, 0), sn4.assignment(0, 0)"
   ]
  },
  {
   "cell_type": "markdown",
   "metadata": {},
   "source": [
    "The ContinuousFactor class also has a method **discretize** that takes a pgmpy Discretizer class as input. It will output a list of discrete probability masses or a Factor or TabularCPD object depending upon the discretization method used. Although, we do not have inbuilt discretization algorithms for multivariate distributions for now, the users can always define their own Discretizer class by subclassing the pgmpy.BaseDiscretizer class."
   ]
  },
  {
   "cell_type": "markdown",
   "metadata": {},
   "source": [
    "### Joint Gaussian Distributions"
   ]
  },
  {
   "cell_type": "markdown",
   "metadata": {},
   "source": [
    "In its most common representation, a multivariate Gaussian distribution over $X_1………..X_n$ is characterized by an n-dimensional mean vector $\\mu$, and a symmetric n x n covariance matrix $\\Sigma$. The density function is most defined as -"
   ]
  },
  {
   "cell_type": "markdown",
   "metadata": {},
   "source": [
    "$$ p(x) = \\dfrac{1}{(2\\pi)^{n/2}|\\Sigma|^{1/2}} \\exp[-0.5*(x-\\mu)^T\\Sigma^{-1}(x-\\mu)] $$"
   ]
  },
  {
   "cell_type": "markdown",
   "metadata": {},
   "source": [
    "The class pgmpy.JointGaussianDistribution provides its representation. This is derived from the class pgmpy.ContinuousFactor. We need to specify the variable names, a mean vector and a covariance matrix for its inialization. It will automatically comute the pdf function given these parameters."
   ]
  },
  {
   "cell_type": "code",
   "execution_count": 11,
   "metadata": {},
   "outputs": [
    {
     "data": {
      "text/plain": [
       "['x1', 'x2', 'x3']"
      ]
     },
     "execution_count": 11,
     "metadata": {},
     "output_type": "execute_result"
    }
   ],
   "source": [
    "from pgmpy.factors.distributions import GaussianDistribution as JGD\n",
    "dis = JGD(['x1', 'x2', 'x3'], np.array([[1], [-3], [4]]),\n",
    "          np.array([[4, 2, -2], [2, 5, -5], [-2, -5, 8]]))\n",
    "dis.variables"
   ]
  },
  {
   "cell_type": "code",
   "execution_count": 12,
   "metadata": {},
   "outputs": [
    {
     "data": {
      "text/plain": [
       "array([[ 1.],\n",
       "       [-3.],\n",
       "       [ 4.]])"
      ]
     },
     "execution_count": 12,
     "metadata": {},
     "output_type": "execute_result"
    }
   ],
   "source": [
    "dis.mean"
   ]
  },
  {
   "cell_type": "code",
   "execution_count": 13,
   "metadata": {},
   "outputs": [
    {
     "data": {
      "text/plain": [
       "array([[ 4.,  2., -2.],\n",
       "       [ 2.,  5., -5.],\n",
       "       [-2., -5.,  8.]])"
      ]
     },
     "execution_count": 13,
     "metadata": {},
     "output_type": "execute_result"
    }
   ],
   "source": [
    "dis.covariance"
   ]
  },
  {
   "cell_type": "code",
   "execution_count": 14,
   "metadata": {},
   "outputs": [
    {
     "data": {
      "text/plain": [
       "0.0014805631279234139"
      ]
     },
     "execution_count": 14,
     "metadata": {},
     "output_type": "execute_result"
    }
   ],
   "source": [
    "dis.pdf([0,0,0])"
   ]
  },
  {
   "cell_type": "markdown",
   "metadata": {},
   "source": [
    "This class overrides the basic operation methods **(marginalize, reduce, normalize, product and divide)** as these operations here are more efficient than the ones in its parent class. Most of these operation involve a matrix inversion which is $O(n^3)$ with repect to the number of variables."
   ]
  },
  {
   "cell_type": "code",
   "execution_count": 15,
   "metadata": {},
   "outputs": [
    {
     "data": {
      "text/plain": [
       "['x1', 'x2', 'x3', 'x4']"
      ]
     },
     "execution_count": 15,
     "metadata": {},
     "output_type": "execute_result"
    }
   ],
   "source": [
    "dis1 = JGD(['x1', 'x2', 'x3'], np.array([[1], [-3], [4]]),\n",
    "           np.array([[4, 2, -2], [2, 5, -5], [-2, -5, 8]]))\n",
    "dis2 = JGD(['x3', 'x4'], [1, 2], [[2, 3], [5, 6]])\n",
    "dis3 = dis1 * dis2\n",
    "dis3.variables"
   ]
  },
  {
   "cell_type": "code",
   "execution_count": 16,
   "metadata": {},
   "outputs": [
    {
     "data": {
      "text/plain": [
       "array([[ 1.6],\n",
       "       [-1.5],\n",
       "       [ 1.6],\n",
       "       [ 3.5]])"
      ]
     },
     "execution_count": 16,
     "metadata": {},
     "output_type": "execute_result"
    }
   ],
   "source": [
    "dis3.mean"
   ]
  },
  {
   "cell_type": "code",
   "execution_count": 17,
   "metadata": {},
   "outputs": [
    {
     "data": {
      "text/plain": [
       "array([[ 3.6,  1. , -0.4, -0.6],\n",
       "       [ 1. ,  2.5, -1. , -1.5],\n",
       "       [-0.4, -1. ,  1.6,  2.4],\n",
       "       [-1. , -2.5,  4. ,  4.5]])"
      ]
     },
     "execution_count": 17,
     "metadata": {},
     "output_type": "execute_result"
    }
   ],
   "source": [
    "dis3.covariance"
   ]
  },
  {
   "cell_type": "markdown",
   "metadata": {},
   "source": [
    "The others methods can also be used in a similar fashion."
   ]
  },
  {
   "cell_type": "markdown",
   "metadata": {},
   "source": [
    "### Canonical Factors"
   ]
  },
  {
   "cell_type": "markdown",
   "metadata": {},
   "source": [
    "While the Joint Gaussian representation is useful for certain sampling algorithms, a closer look reveals that it can also not be used directly in the sum-product algorithms. Why? Because operations like product and reduce, as mentioned above involve matrix inversions at each step. \n",
    "\n",
    "So, in order to compactly describe the intermediate factors in a Gaussian network without the costly matrix inversions at each step, a simple parametric representation is used known as the Canonical Factor. This representation is closed under the basic operations used in inference: factor product, factor division, factor reduction, and marginalization. Thus, we can define a set of simple data structures that allow the inference process to be performed. Moreover, the integration operation required by marginalization is always well defined, and it is guaranteed to produce a finite integral under certain conditions; when it is well defined, it has a simple analytical solution.\n",
    "\n",
    "A canonical form $C (X; K, h, g)$ is defined as:"
   ]
  },
  {
   "cell_type": "markdown",
   "metadata": {},
   "source": [
    "$$C(X; K,h,g) = \\exp(-0.5X^TKX + h^TX + g)$$"
   ]
  },
  {
   "cell_type": "markdown",
   "metadata": {},
   "source": [
    "We can represent every Gaussian as a canonical form. Rewriting the joint Gaussian pdf we obtain,"
   ]
  },
  {
   "cell_type": "markdown",
   "metadata": {},
   "source": [
    "$N (\\mu; \\Sigma) = C (K, h, g)$ where:"
   ]
  },
  {
   "cell_type": "markdown",
   "metadata": {},
   "source": [
    "$$\n",
    "K = \\Sigma^{-1}\n",
    "$$\n",
    "$$\n",
    "h = \\Sigma^{-1}\\mu\n",
    "$$\n",
    "$$\n",
    "g = -0.5\\mu^T\\Sigma^{-1}\\mu - \\log((2\\pi)^{n/2}|\\Sigma|^{1/2}\n",
    "$$"
   ]
  },
  {
   "cell_type": "markdown",
   "metadata": {},
   "source": [
    "Similar to the JointGaussainDistribution class, the CanonicalFactor class is also derived from the ContinuousFactor class but with its own implementations of the methods required for the sum-product algorithms that are much more efficient than its parent class methods. Let us have a look at the API of a few methods in this class."
   ]
  },
  {
   "cell_type": "code",
   "execution_count": 18,
   "metadata": {},
   "outputs": [
    {
     "data": {
      "text/plain": [
       "['x1', 'x2', 'x3']"
      ]
     },
     "execution_count": 18,
     "metadata": {},
     "output_type": "execute_result"
    }
   ],
   "source": [
    "from pgmpy.factors.continuous import CanonicalDistribution\n",
    "\n",
    "phi1 = CanonicalDistribution(['x1', 'x2', 'x3'],\n",
    "                       np.array([[1, -1, 0], [-1, 4, -2], [0, -2, 4]]),\n",
    "                       np.array([[1], [4], [-1]]), -2)\n",
    "phi2 = CanonicalDistribution(['x1', 'x2'], np.array([[3, -2], [-2, 4]]),\n",
    "                       np.array([[5], [-1]]), 1)\n",
    "\n",
    "phi3 = phi1 * phi2\n",
    "phi3.variables"
   ]
  },
  {
   "cell_type": "code",
   "execution_count": 19,
   "metadata": {},
   "outputs": [
    {
     "data": {
      "text/plain": [
       "array([[ 6.],\n",
       "       [ 3.],\n",
       "       [-1.]])"
      ]
     },
     "execution_count": 19,
     "metadata": {},
     "output_type": "execute_result"
    }
   ],
   "source": [
    "phi3.h"
   ]
  },
  {
   "cell_type": "code",
   "execution_count": 20,
   "metadata": {},
   "outputs": [
    {
     "data": {
      "text/plain": [
       "array([[ 4., -3.,  0.],\n",
       "       [-3.,  8., -2.],\n",
       "       [ 0., -2.,  4.]])"
      ]
     },
     "execution_count": 20,
     "metadata": {},
     "output_type": "execute_result"
    }
   ],
   "source": [
    "phi3.K"
   ]
  },
  {
   "cell_type": "code",
   "execution_count": 21,
   "metadata": {},
   "outputs": [
    {
     "data": {
      "text/plain": [
       "-1"
      ]
     },
     "execution_count": 21,
     "metadata": {},
     "output_type": "execute_result"
    }
   ],
   "source": [
    "phi3.g"
   ]
  },
  {
   "cell_type": "markdown",
   "metadata": {},
   "source": [
    "This class also has a method, to_joint_gaussian to convert the canoncial representation back into the joint gaussian distribution."
   ]
  },
  {
   "cell_type": "code",
   "execution_count": 22,
   "metadata": {},
   "outputs": [
    {
     "data": {
      "text/plain": [
       "['x1', 'x2']"
      ]
     },
     "execution_count": 22,
     "metadata": {},
     "output_type": "execute_result"
    }
   ],
   "source": [
    "phi = CanonicalDistribution(['x1', 'x2'], np.array([[3, -2], [-2, 4]]),\n",
    "                      np.array([[5], [-1]]), 1)\n",
    "jgd = phi.to_joint_gaussian()\n",
    "jgd.variables"
   ]
  },
  {
   "cell_type": "code",
   "execution_count": 23,
   "metadata": {},
   "outputs": [
    {
     "data": {
      "text/plain": [
       "array([[ 0.5  ,  0.25 ],\n",
       "       [ 0.25 ,  0.375]])"
      ]
     },
     "execution_count": 23,
     "metadata": {},
     "output_type": "execute_result"
    }
   ],
   "source": [
    "jgd.covariance"
   ]
  },
  {
   "cell_type": "code",
   "execution_count": 24,
   "metadata": {},
   "outputs": [
    {
     "data": {
      "text/plain": [
       "array([[ 2.25 ],\n",
       "       [ 0.875]])"
      ]
     },
     "execution_count": 24,
     "metadata": {},
     "output_type": "execute_result"
    }
   ],
   "source": [
    "jgd.mean"
   ]
  },
  {
   "cell_type": "markdown",
   "metadata": {},
   "source": [
    "### Linear Gaussian CPD"
   ]
  },
  {
   "cell_type": "markdown",
   "metadata": {},
   "source": [
    "A linear gaussian conditional probability distribution is defined on a continuous variable. All the parents of this variable are also continuous. The mean of this variable, is linearly dependent on the mean of its parent variables and the variance is independent.\n",
    "\n",
    "For example,\n",
    "$$\n",
    "P(Y ; x1, x2, x3) = N(\\beta_1x_1 + \\beta_2x_2 + \\beta_3x_3 + \\beta_0 ; \\sigma^2)\n",
    "$$\n",
    "\n",
    "Let $Y$ be a linear Gaussian of its parents $x_1$,...,$x_k$:\n",
    "$$\n",
    "p(Y | x) = N(\\beta_0 + \\beta^T x ; \\sigma^2)\n",
    "$$\n",
    "\n",
    "The distribution of Y is a normal distribution p(Y) where:\n",
    "$$\n",
    "\\mu_Y = \\beta_0 + \\beta^T\\mu\n",
    "$$\n",
    "$$\n",
    "{{\\sigma^2}_Y = \\sigma^2 + \\beta^T\\Sigma\\beta}\n",
    "$$\n",
    "\n",
    "The joint distribution over ${X, Y}$ is a normal distribution where:\n",
    "\n",
    "$$Cov[X_i; Y] = {\\sum_{j=1}^{k} \\beta_j\\Sigma_{i,j}}$$\n",
    "\n",
    "Assume that $x_1$,...,$x_k$ are jointly Gaussian with distribution $N (\\mu; \\Sigma)$. Then:\n",
    "For its representation pgmpy has a class named LinearGaussianCPD in the module pgmpy.factors.continuous. To instantiate an object of this class, one needs to provide a variable name, the value of the $\\beta_0$ term, the variance, a list of the parent variable names and a list of the coefficient values of the linear equation (beta_vector), where the list of parent variable names and beta_vector list is optional and defaults to None."
   ]
  },
  {
   "cell_type": "code",
   "execution_count": 25,
   "metadata": {},
   "outputs": [
    {
     "name": "stdout",
     "output_type": "stream",
     "text": [
      "P(Y | X1, X2, X3) = N(-2*X1 + 3*X2 + 7*X3 + 0.2; 9.6)\n"
     ]
    }
   ],
   "source": [
    "# For P(Y| X1, X2, X3) = N(-2x1 + 3x2 + 7x3 + 0.2; 9.6)\n",
    "from pgmpy.factors.continuous import LinearGaussianCPD\n",
    "cpd = LinearGaussianCPD('Y',  [0.2, -2, 3, 7], 9.6, ['X1', 'X2', 'X3'])\n",
    "print(cpd)"
   ]
  },
  {
   "cell_type": "markdown",
   "metadata": {
    "collapsed": true
   },
   "source": [
    "A Gaussian Bayesian is defined as a network all of whose variables are continuous, and where all of the CPDs are linear Gaussians. These networks are of particular interest as these are an alternate form of representaion of the Joint Gaussian distribution.\n",
    "\n",
    "These networks are implemented as the LinearGaussianBayesianNetwork class in the module, pgmpy.models.continuous. This class is a subclass of the BayesianModel class in pgmpy.models and will inherit most of the methods from it. It will have a special method known as to_joint_gaussian that will return an equivalent JointGuassianDistribution object for the model."
   ]
  },
  {
   "cell_type": "code",
   "execution_count": 26,
   "metadata": {},
   "outputs": [
    {
     "data": {
      "text/plain": [
       "['x1', 'x2', 'x3']"
      ]
     },
     "execution_count": 26,
     "metadata": {},
     "output_type": "execute_result"
    }
   ],
   "source": [
    "from pgmpy.models import LinearGaussianBayesianNetwork\n",
    "\n",
    "model = LinearGaussianBayesianNetwork([('x1', 'x2'), ('x2', 'x3')])\n",
    "cpd1 = LinearGaussianCPD('x1', [1], 4)\n",
    "cpd2 = LinearGaussianCPD('x2', [-5, 0.5], 4, ['x1'])\n",
    "cpd3 = LinearGaussianCPD('x3', [4, -1], 3, ['x2'])\n",
    "# This is a hack due to a bug in pgmpy (LinearGaussianCPD\n",
    "# doesn't have `variables` attribute but `add_cpds` function\n",
    "# wants to check that...)\n",
    "cpd1.variables = [*cpd1.evidence, cpd1.variable]\n",
    "cpd2.variables = [*cpd2.evidence, cpd2.variable]\n",
    "cpd3.variables = [*cpd3.evidence, cpd3.variable]\n",
    "model.add_cpds(cpd1, cpd2, cpd3)\n",
    "jgd = model.to_joint_gaussian()\n",
    "jgd.variables"
   ]
  },
  {
   "cell_type": "code",
   "execution_count": 27,
   "metadata": {},
   "outputs": [
    {
     "data": {
      "text/plain": [
       "array([[ 1. ],\n",
       "       [-4.5],\n",
       "       [ 8.5]])"
      ]
     },
     "execution_count": 27,
     "metadata": {},
     "output_type": "execute_result"
    }
   ],
   "source": [
    "jgd.mean"
   ]
  },
  {
   "cell_type": "code",
   "execution_count": 28,
   "metadata": {},
   "outputs": [
    {
     "data": {
      "text/plain": [
       "array([[ 4.,  2., -2.],\n",
       "       [ 2.,  5., -5.],\n",
       "       [-2., -5.,  8.]])"
      ]
     },
     "execution_count": 28,
     "metadata": {},
     "output_type": "execute_result"
    }
   ],
   "source": [
    "jgd.covariance"
   ]
  }
 ],
 "metadata": {
  "kernelspec": {
   "display_name": "Python 3",
   "language": "python",
   "name": "python3"
  },
  "language_info": {
   "codemirror_mode": {
    "name": "ipython",
    "version": 3
   },
   "file_extension": ".py",
   "mimetype": "text/x-python",
   "name": "python",
   "nbconvert_exporter": "python",
   "pygments_lexer": "ipython3",
   "version": "3.8.10"
  }
 },
 "nbformat": 4,
 "nbformat_minor": 1
}
